{
 "cells": [
  {
   "cell_type": "code",
   "execution_count": 172,
   "metadata": {},
   "outputs": [],
   "source": [
    "import numpy as np\n",
    "import matplotlib.pyplot as plt\n",
    "import seaborn as sns"
   ]
  },
  {
   "cell_type": "code",
   "execution_count": 125,
   "metadata": {},
   "outputs": [],
   "source": [
    "def equation_system(N, Q0tr, Q1tr, x, p, k=1): #N, Q0tr, Q1tr, x, p, k=1\n",
    "\n",
    "    A = np.zeros((N, N))\n",
    "    B = np.zeros(N)\n",
    "    \n",
    "    np.fill_diagonal(A[:6, 12:18], -1)\n",
    "    np.fill_diagonal(A[:6, 18:24], 1)\n",
    "    B[0:6] = Q0tr - Q1tr\n",
    "\n",
    "    np.fill_diagonal(A[6:12, 0:6], -1)\n",
    "    np.fill_diagonal(A[6:12, 6:12], 1)\n",
    "    np.fill_diagonal(A[6:12, 12:18], 2*k*Q0tr*(Q0tr/np.abs(Q0tr))*x)\n",
    "    B[6:12] = -k*(Q0tr**2)*(Q0tr/np.abs(Q0tr)*x)\n",
    "\n",
    "    np.fill_diagonal(A[12:17, 0:5], 1)\n",
    "    np.fill_diagonal(A[12:17, 1:6], -1)\n",
    "    B[12:17] = 0\n",
    "\n",
    "    A[17][12:18] = 1\n",
    "    B[17] = -np.sum(Q0tr)\n",
    "\n",
    "    np.fill_diagonal(A[18:24, 6:12], 1)\n",
    "    B[18:24] = p**2\n",
    "    \n",
    "    return A, B"
   ]
  },
  {
   "cell_type": "code",
   "execution_count": 278,
   "metadata": {},
   "outputs": [],
   "source": [
    "eta = 0.01\n",
    "tol = 0.00001\n",
    "\n",
    "k = 1\n",
    "Q0tr = Q1tr = np.array([1, 1, 1, -1, -1, -1])\n",
    "x = np.array([1, 1, 1, 1, 1, 1])\n",
    "p = np.arange(1, 7)\n",
    "N=24\n",
    "\n",
    "\n",
    "\n",
    "def iter_solve(criteria, Q0tr, Q1tr, x, p, k=1, verb=True):\n",
    "    summ=2\n",
    "    i=0\n",
    "    diff=1\n",
    "    \n",
    "    if criteria == 'summa':\n",
    "        \n",
    "        while summ!=0.:\n",
    "            A, B = equation_system(N, Q0tr, Q1tr, x, p, k=1)\n",
    "            X = np.linalg.solve(A, B)\n",
    "            Qad = X[12:18]\n",
    "            Q0tr = Q1tr = Q0tr + eta * Qad\n",
    "            summ = np.sum(Q0tr)\n",
    "            if verb:\n",
    "                print(i)\n",
    "                print('Q0tr:', Q0tr)\n",
    "                print('Qad:', Qad)\n",
    "                print('Sum:', np.sum(Q0tr))\n",
    "                print('---------------')\n",
    "            i+=1\n",
    "            \n",
    "    elif criteria == 'tolerance':\n",
    "        \n",
    "        while (diff >= tol) or (np.abs(summ) >= tol):\n",
    "            A, B = equation_system(N, Q0tr, Q1tr, x, p, k=1)\n",
    "            X = np.linalg.solve(A, B)\n",
    "            Qad = X[12:18]\n",
    "#             new_Q = Q0tr + eta * Qad\n",
    "            diff = np.max(Qad)\n",
    "            Q0tr = Q1tr = Q0tr + eta * Qad\n",
    "            summ = np.sum(Q0tr)\n",
    "            if verb:\n",
    "                if i%100 == 0:\n",
    "                    print(i)\n",
    "                    print('Q0tr:', Q0tr)\n",
    "                    print('Qad:', Qad)\n",
    "                    print('Max Qad:', round(diff,7))\n",
    "#                     print('Sum:', np.sum(Q0tr))\n",
    "                    print('---------------')\n",
    "            i+=1\n",
    "    \n",
    "    \n",
    "    y_0, y_1 = X[:6], X[6:12]\n",
    "    p_0, p_1 = np.sqrt(y_0), np.sqrt(y_1)\n",
    "    print(i-1)\n",
    "    print('Q:', np.around(Q0tr, 4))\n",
    "    print('p_0:', np.around(p_0, 4))\n",
    "    print('p_1:', np.around(p_1, 4))\n",
    "    print('Sum Q:', np.sum(Q0tr))\n",
    "    print('===============')\n",
    "    \n",
    "    \n",
    "    return np.around(Q0tr, 4), np.around(p_0, 4), np.around(p_1, 4)\n",
    "            \n"
   ]
  },
  {
   "cell_type": "code",
   "execution_count": 279,
   "metadata": {},
   "outputs": [
    {
     "name": "stdout",
     "output_type": "stream",
     "text": [
      "0\n",
      "Q0tr: [ 1.06583333  1.05083333  1.02583333 -0.99916667 -1.04416667 -1.09916667]\n",
      "Qad: [ 6.58333333  5.08333333  2.58333333  0.08333333 -4.41666667 -9.91666667]\n",
      "Max Qad: 6.5833333\n",
      "---------------\n",
      "100\n",
      "Q0tr: [ 2.99176966  2.65132598  1.95698428 -1.1679491  -2.66827154 -3.76385927]\n",
      "Qad: [ 0.74807391  0.63804352  0.39854433 -0.114696   -0.66593148 -1.00403428]\n",
      "Max Qad: 0.7480739\n",
      "---------------\n",
      "200\n",
      "Q0tr: [ 3.42801204  3.02421208  2.19187622 -1.23892552 -3.05748668 -4.34768814]\n",
      "Qad: [ 0.23794829  0.20377171  0.12931511 -0.04072093 -0.21267056 -0.31764362]\n",
      "Max Qad: 0.2379483\n",
      "---------------\n",
      "300\n",
      "Q0tr: [ 3.57412226  3.14940476  2.2715005  -1.2643074  -3.18813334 -4.54258678]\n",
      "Qad: [ 0.08344469  0.07153526  0.04559271 -0.01470103 -0.07464346 -0.11122817]\n",
      "Max Qad: 0.0834447\n",
      "---------------\n",
      "400\n",
      "Q0tr: [ 3.62610281  3.19397442  2.29992749 -1.27350998 -3.23463748 -4.61185727]\n",
      "Qad: [ 0.03009482  0.02580862  0.01647259 -0.00535309 -0.02692759 -0.04009534]\n",
      "Max Qad: 0.0300948\n",
      "---------------\n",
      "500\n",
      "Q0tr: [ 3.64494049  3.21013019  2.3102417  -1.27686646 -3.25149341 -4.6369525 ]\n",
      "Qad: [ 0.01095736  0.00939794  0.00600136 -0.00195564 -0.00980507 -0.01459595]\n",
      "Max Qad: 0.0109574\n",
      "---------------\n",
      "600\n",
      "Q0tr: [ 3.65181093  3.21602298  2.31400508 -1.27809344 -3.25764145 -4.64610411]\n",
      "Qad: [ 0.00400302  0.00343347  0.00219296 -0.00071532 -0.00358217 -0.00533196]\n",
      "Max Qad: 0.004003\n",
      "---------------\n",
      "700\n",
      "Q0tr: [ 3.65432245  3.21817717  2.31538101 -1.27854233 -3.25988893 -4.64944936]\n",
      "Qad: [ 0.0014642   0.0012559   0.0008022  -0.00026176 -0.00131028 -0.00195025]\n",
      "Max Qad: 0.0014642\n",
      "---------------\n",
      "800\n",
      "Q0tr: [ 3.6552413   3.21896531  2.31588443 -1.27870662 -3.2607112  -4.65067323]\n",
      "Qad: [ 5.35808053e-04  4.59583618e-04  2.93562778e-04 -9.58047002e-05\n",
      " -4.79484455e-04 -7.13665294e-04]\n",
      "Max Qad: 0.0005358\n",
      "---------------\n",
      "900\n",
      "Q0tr: [ 3.65557758  3.21925374  2.31606867 -1.27876674 -3.26101212 -4.65112113]\n",
      "Qad: [ 1.96104600e-04  1.68206985e-04  1.07444540e-04 -3.50664030e-05\n",
      " -1.75490555e-04 -2.61199167e-04]\n",
      "Max Qad: 0.0001961\n",
      "---------------\n",
      "1000\n",
      "Q0tr: [ 3.65570065  3.21935931  2.31613611 -1.27878875 -3.26112226 -4.65128506]\n",
      "Qad: [ 7.17781511e-05  6.15671223e-05  3.93269803e-05 -1.28352747e-05\n",
      " -6.42330405e-05 -9.56039385e-05]\n",
      "Max Qad: 7.18e-05\n",
      "---------------\n",
      "1100\n",
      "Q0tr: [ 3.6557457   3.21939795  2.31616079 -1.27879681 -3.26116258 -4.65134506]\n",
      "Qad: [ 2.62727931e-05  2.25352801e-05  1.43947864e-05 -4.69810383e-06\n",
      " -2.35110784e-05 -3.49936774e-05]\n",
      "Max Qad: 2.63e-05\n",
      "---------------\n",
      "1197\n",
      "Q: [ 3.6558  3.2194  2.3162 -1.2788 -3.2612 -4.6514]\n",
      "p_0: [3.7901 3.7901 3.7901 3.7901 3.7901 3.7901]\n",
      "p_1: [1. 2. 3. 4. 5. 6.]\n",
      "Sum Q: -8.881784197001252e-16\n",
      "===============\n"
     ]
    }
   ],
   "source": [
    "Q, p_0, p_1 = iter_solve('tolerance', Q0tr, Q1tr, x, p, k=1)"
   ]
  },
  {
   "cell_type": "code",
   "execution_count": 280,
   "metadata": {},
   "outputs": [
    {
     "data": {
      "text/plain": [
       "array([ 3.6558,  3.2194,  2.3162, -1.2788, -3.2612, -4.6514])"
      ]
     },
     "execution_count": 280,
     "metadata": {},
     "output_type": "execute_result"
    }
   ],
   "source": [
    "Q"
   ]
  },
  {
   "cell_type": "code",
   "execution_count": 281,
   "metadata": {},
   "outputs": [
    {
     "data": {
      "text/plain": [
       "array([3.7901, 3.7901, 3.7901, 3.7901, 3.7901, 3.7901])"
      ]
     },
     "execution_count": 281,
     "metadata": {},
     "output_type": "execute_result"
    }
   ],
   "source": [
    "p_0"
   ]
  },
  {
   "cell_type": "code",
   "execution_count": 282,
   "metadata": {},
   "outputs": [
    {
     "data": {
      "text/plain": [
       "array([1., 2., 3., 4., 5., 6.])"
      ]
     },
     "execution_count": 282,
     "metadata": {},
     "output_type": "execute_result"
    }
   ],
   "source": [
    "p_1"
   ]
  },
  {
   "cell_type": "code",
   "execution_count": 283,
   "metadata": {},
   "outputs": [
    {
     "data": {
      "text/plain": [
       "-8.881784197001252e-16"
      ]
     },
     "execution_count": 283,
     "metadata": {},
     "output_type": "execute_result"
    }
   ],
   "source": [
    "np.sum(Q)"
   ]
  },
  {
   "cell_type": "code",
   "execution_count": 284,
   "metadata": {},
   "outputs": [
    {
     "data": {
      "text/plain": [
       "9.1914"
      ]
     },
     "execution_count": 284,
     "metadata": {},
     "output_type": "execute_result"
    }
   ],
   "source": [
    "np.sum(Q[:3])"
   ]
  },
  {
   "cell_type": "code",
   "execution_count": 285,
   "metadata": {},
   "outputs": [
    {
     "data": {
      "text/plain": [
       "-9.1914"
      ]
     },
     "execution_count": 285,
     "metadata": {},
     "output_type": "execute_result"
    }
   ],
   "source": [
    "np.sum(Q[3:])"
   ]
  },
  {
   "cell_type": "code",
   "execution_count": 286,
   "metadata": {},
   "outputs": [
    {
     "data": {
      "text/plain": [
       "2.0000804108835224"
      ]
     },
     "execution_count": 286,
     "metadata": {},
     "output_type": "execute_result"
    }
   ],
   "source": [
    "np.sqrt(3.7901**2-3.2194**2)"
   ]
  },
  {
   "cell_type": "code",
   "execution_count": null,
   "metadata": {},
   "outputs": [],
   "source": []
  },
  {
   "cell_type": "code",
   "execution_count": 287,
   "metadata": {},
   "outputs": [
    {
     "name": "stdout",
     "output_type": "stream",
     "text": [
      "1\n",
      "1197\n",
      "Q: [ 3.6558  3.2194  2.3162 -1.2788 -3.2612 -4.6514]\n",
      "p_0: [3.7901 3.7901 3.7901 3.7901 3.7901 3.7901]\n",
      "p_1: [1. 2. 3. 4. 5. 6.]\n",
      "Sum Q: -8.881784197001252e-16\n",
      "===============\n",
      "2\n",
      "1185\n",
      "Q: [ 2.6707  3.3564  2.5031 -0.8569 -3.12   -4.5535]\n",
      "p_0: [3.9071 3.9071 3.9071 3.9071 3.9071 3.9071]\n",
      "p_1: [1. 2. 3. 4. 5. 6.]\n",
      "Sum Q: 0.0\n",
      "===============\n",
      "3\n",
      "1186\n",
      "Q: [ 2.2078  3.4092  2.5735 -0.6142 -3.0622 -4.5141]\n",
      "p_0: [3.9526 3.9526 3.9526 3.9526 3.9526 3.9526]\n",
      "p_1: [1. 2. 3. 4. 5. 6.]\n",
      "Sum Q: 5.329070518200751e-15\n",
      "===============\n",
      "4\n",
      "1186\n",
      "Q: [ 1.9238  3.4358  2.6086 -0.4419 -3.0324 -4.4939]\n",
      "p_0: [3.9755 3.9755 3.9755 3.9755 3.9755 3.9755]\n",
      "p_1: [1. 2. 3. 4. 5. 6.]\n",
      "Sum Q: 1.7763568394002505e-15\n",
      "===============\n",
      "5\n",
      "1186\n",
      "Q: [ 1.7266  3.4505  2.6279 -0.3067 -3.0156 -4.4826]\n",
      "p_0: [3.9882 3.9882 3.9882 3.9882 3.9882 3.9882]\n",
      "p_1: [1. 2. 3. 4. 5. 6.]\n",
      "Sum Q: 7.105427357601002e-15\n",
      "===============\n",
      "6\n",
      "1185\n",
      "Q: [ 1.5792  3.4587  2.6386 -0.1939 -3.0062 -4.4763]\n",
      "p_0: [3.9953 3.9953 3.9953 3.9953 3.9953 3.9953]\n",
      "p_1: [1. 2. 3. 4. 5. 6.]\n",
      "Sum Q: 1.7763568394002505e-15\n",
      "===============\n",
      "7\n",
      "1183\n",
      "Q: [ 1.4634  3.4628  2.644  -0.0955 -3.0015 -4.4731]\n",
      "p_0: [3.9989 3.9989 3.9989 3.9989 3.9989 3.9989]\n",
      "p_1: [1. 2. 3. 4. 5. 6.]\n",
      "Sum Q: 0.0\n",
      "===============\n",
      "8\n",
      "1182\n",
      "Q: [ 1.3693  3.4641  2.6457 -0.007  -3.     -4.4721]\n",
      "p_0: [4. 4. 4. 4. 4. 4.]\n",
      "p_1: [1. 2. 3. 4. 5. 6.]\n",
      "Sum Q: -3.552713678800501e-15\n",
      "===============\n",
      "9\n",
      "1183\n",
      "Q: [ 1.2912  3.4648  2.6466  0.0682 -2.9992 -4.4716]\n",
      "p_0: [4.0006 4.0006 4.0006 4.0006 4.0006 4.0006]\n",
      "p_1: [1. 2. 3. 4. 5. 6.]\n",
      "Sum Q: -2.6645352591003757e-15\n",
      "===============\n",
      "10\n",
      "1184\n",
      "Q: [ 1.2254  3.4664  2.6488  0.127  -2.9973 -4.4703]\n",
      "p_0: [4.002 4.002 4.002 4.002 4.002 4.002]\n",
      "p_1: [1. 2. 3. 4. 5. 6.]\n",
      "Sum Q: 3.552713678800501e-15\n",
      "===============\n"
     ]
    }
   ],
   "source": [
    "delta_length = np.arange(1, 11)\n",
    "Q_arr = []\n",
    "p_0_arr = []\n",
    "for d in delta_length:\n",
    "    x_delta = np.concatenate(([d], x[1:]))\n",
    "    print(d)\n",
    "    Q, p_0, _ = iter_solve('tolerance', Q0tr, Q1tr, x_delta, p, k=1, verb=False)\n",
    "    Q_arr.append(Q[0])\n",
    "    p_0_arr.append(p_0[0])"
   ]
  },
  {
   "cell_type": "code",
   "execution_count": 293,
   "metadata": {},
   "outputs": [
    {
     "data": {
      "image/png": "[encoded data removed]",
      "text/plain": [
       "<Figure size 1080x432 with 2 Axes>"
      ]
     },
     "metadata": {},
     "output_type": "display_data"
    }
   ],
   "source": [
    "sns.set_theme()\n",
    "\n",
    "fig, axs = plt.subplots(1,2, figsize=(15,6))\n",
    "\n",
    "# axs[0].grid()\n",
    "axs[0].plot(delta_length, Q_arr)\n",
    "axs[0].set_ylabel('Потік')\n",
    "axs[0].set_xlabel('Довжина')\n",
    "axs[0].set_title('Зміна потоку в залежності від довжини 1 гілки')\n",
    "\n",
    "# axs[1].grid()\n",
    "axs[1].plot(delta_length, p_0_arr)\n",
    "axs[1].set_ylabel('Тиск у вузлі')\n",
    "axs[1].set_xlabel('Довжина')\n",
    "axs[1].set_title('Зміна тиску в вузлі в залежності від довжини 1 гілки')\n",
    "\n",
    "\n",
    "plt.show()"
   ]
  },
  {
   "cell_type": "code",
   "execution_count": 290,
   "metadata": {},
   "outputs": [
    {
     "data": {
      "text/plain": [
       "[3.6558,\n",
       " 2.6707,\n",
       " 2.2078,\n",
       " 1.9238,\n",
       " 1.7266,\n",
       " 1.5792,\n",
       " 1.4634,\n",
       " 1.3693,\n",
       " 1.2912,\n",
       " 1.2254]"
      ]
     },
     "execution_count": 290,
     "metadata": {},
     "output_type": "execute_result"
    }
   ],
   "source": [
    "Q_arr"
   ]
  },
  {
   "cell_type": "code",
   "execution_count": 291,
   "metadata": {},
   "outputs": [
    {
     "data": {
      "text/plain": [
       "[3.7901, 3.9071, 3.9526, 3.9755, 3.9882, 3.9953, 3.9989, 4.0, 4.0006, 4.002]"
      ]
     },
     "execution_count": 291,
     "metadata": {},
     "output_type": "execute_result"
    }
   ],
   "source": [
    "p_0_arr"
   ]
  },
  {
   "cell_type": "code",
   "execution_count": null,
   "metadata": {},
   "outputs": [],
   "source": []
  },
  {
   "cell_type": "code",
   "execution_count": null,
   "metadata": {},
   "outputs": [],
   "source": []
  },
  {
   "cell_type": "code",
   "execution_count": null,
   "metadata": {},
   "outputs": [],
   "source": []
  },
  {
   "cell_type": "code",
   "execution_count": null,
   "metadata": {},
   "outputs": [],
   "source": []
  },
  {
   "cell_type": "code",
   "execution_count": null,
   "metadata": {},
   "outputs": [],
   "source": []
  },
  {
   "cell_type": "code",
   "execution_count": null,
   "metadata": {},
   "outputs": [],
   "source": []
  },
  {
   "cell_type": "code",
   "execution_count": null,
   "metadata": {},
   "outputs": [],
   "source": []
  },
  {
   "cell_type": "code",
   "execution_count": null,
   "metadata": {},
   "outputs": [],
   "source": []
  },
  {
   "cell_type": "code",
   "execution_count": null,
   "metadata": {},
   "outputs": [],
   "source": []
  },
  {
   "cell_type": "code",
   "execution_count": null,
   "metadata": {},
   "outputs": [],
   "source": []
  },
  {
   "cell_type": "code",
   "execution_count": null,
   "metadata": {},
   "outputs": [],
   "source": []
  },
  {
   "cell_type": "code",
   "execution_count": null,
   "metadata": {},
   "outputs": [],
   "source": []
  },
  {
   "cell_type": "code",
   "execution_count": null,
   "metadata": {},
   "outputs": [],
   "source": []
  },
  {
   "cell_type": "code",
   "execution_count": null,
   "metadata": {},
   "outputs": [],
   "source": []
  },
  {
   "cell_type": "code",
   "execution_count": null,
   "metadata": {},
   "outputs": [],
   "source": []
  },
  {
   "cell_type": "code",
   "execution_count": null,
   "metadata": {},
   "outputs": [],
   "source": []
  },
  {
   "cell_type": "code",
   "execution_count": null,
   "metadata": {},
   "outputs": [],
   "source": []
  },
  {
   "cell_type": "code",
   "execution_count": null,
   "metadata": {},
   "outputs": [],
   "source": []
  },
  {
   "cell_type": "code",
   "execution_count": null,
   "metadata": {},
   "outputs": [],
   "source": []
  },
  {
   "cell_type": "code",
   "execution_count": null,
   "metadata": {},
   "outputs": [],
   "source": []
  },
  {
   "cell_type": "code",
   "execution_count": null,
   "metadata": {},
   "outputs": [],
   "source": []
  },
  {
   "cell_type": "code",
   "execution_count": null,
   "metadata": {},
   "outputs": [],
   "source": []
  },
  {
   "cell_type": "code",
   "execution_count": null,
   "metadata": {},
   "outputs": [],
   "source": []
  },
  {
   "cell_type": "code",
   "execution_count": null,
   "metadata": {},
   "outputs": [],
   "source": []
  },
  {
   "cell_type": "code",
   "execution_count": 115,
   "metadata": {},
   "outputs": [
    {
     "name": "stdout",
     "output_type": "stream",
     "text": [
      "0\n",
      "[ 1.06583333  1.05083333  1.02583333 -0.99916667 -1.04416667 -1.09916667]\n",
      "Sum: 2.220446049250313e-16\n",
      "---------------\n",
      "1\n",
      "[ 1.12636965  1.09811045  1.05014523 -0.99897321 -1.08663781 -1.18901431]\n",
      "Sum: -2.220446049250313e-16\n",
      "---------------\n",
      "2\n",
      "[ 1.18264715  1.14246262  1.07320756 -0.99925094 -1.127464   -1.27160239]\n",
      "Sum: 0.0\n",
      "---------------\n"
     ]
    }
   ],
   "source": [
    "eta = 0.01\n",
    "\n",
    "k = 1\n",
    "Q0tr = Q1tr = np.array([1, 1, 1, -1, -1, -1])\n",
    "x = np.array([1, 1, 1, 1, 1, 1])\n",
    "p = np.arange(1, 7)\n",
    "\n",
    "# A = np.zeros((24, 24))\n",
    "# B = np.zeros(24)\n",
    "\n",
    "summ=None\n",
    "i = 0\n",
    "while summ != 0.:\n",
    "# for n in range(1501):\n",
    "    A = np.zeros((24, 24))\n",
    "    B = np.zeros(24)\n",
    "    np.fill_diagonal(A[:6, 12:18], -1)\n",
    "    np.fill_diagonal(A[:6, 18:24], 1)\n",
    "    B[0:6] = Q0tr - Q1tr\n",
    "\n",
    "    np.fill_diagonal(A[6:12, 0:6], -1)\n",
    "    np.fill_diagonal(A[6:12, 6:12], 1)\n",
    "    np.fill_diagonal(A[6:12, 12:18], 2*k*Q0tr*(Q0tr/np.abs(Q0tr))*x)\n",
    "    B[6:12] = -k*(Q0tr**2)*(Q0tr/np.abs(Q0tr)*x)\n",
    "\n",
    "    np.fill_diagonal(A[12:17, 0:5], 1)\n",
    "    np.fill_diagonal(A[12:17, 1:6], -1)\n",
    "    B[12:17] = 0\n",
    "\n",
    "    A[17][12:18] = 1\n",
    "    B[17] = -np.sum(Q0tr)\n",
    "\n",
    "    np.fill_diagonal(A[18:24, 6:12], 1)\n",
    "    B[18:24] = p**2\n",
    "#     A, B = equation_system(N, Q0tr, Q1tr, x, p, k=1)\n",
    "\n",
    "    X = np.linalg.solve(A, B)\n",
    "    Qad = X[12:18]\n",
    "    Q0tr = Q1tr = Q0tr + eta * Qad\n",
    "    summ = np.sum(Q0tr)\n",
    "    print(i)\n",
    "    print(Q0tr)\n",
    "    print('Sum:', np.sum(Q0tr))\n",
    "    print('---------------')\n",
    "    i+=1\n",
    "    \n",
    "    \n",
    "#     Qad = X[12:18]\n",
    "#     new_Q = Q0tr + eta * Qad\n",
    "#     diff = Q0tr - new_Q\n",
    "#     Q0tr = Q1tr = Q0tr + eta * Qad\n",
    "#     summ = np.sum(Q0tr)\n",
    "#     if i%20 == 0:\n",
    "#         print(i)\n",
    "#         print(Q0tr)\n",
    "#         print('diff: ', diff)\n",
    "#         print('Sum:', np.sum(Q0tr))\n",
    "#         print('---------------')\n",
    "#     i+=1\n",
    "\n"
   ]
  },
  {
   "cell_type": "code",
   "execution_count": null,
   "metadata": {},
   "outputs": [],
   "source": []
  },
  {
   "cell_type": "code",
   "execution_count": 49,
   "metadata": {},
   "outputs": [
    {
     "data": {
      "text/plain": [
       "array([ 6.58333333,  5.08333333,  2.58333333,  0.08333333, -4.41666667,\n",
       "       -9.91666667])"
      ]
     },
     "execution_count": 49,
     "metadata": {},
     "output_type": "execute_result"
    }
   ],
   "source": [
    "Qad = X[12:18]\n",
    "Qad\n"
   ]
  },
  {
   "cell_type": "code",
   "execution_count": null,
   "metadata": {},
   "outputs": [],
   "source": []
  },
  {
   "cell_type": "code",
   "execution_count": 41,
   "metadata": {},
   "outputs": [
    {
     "data": {
      "text/plain": [
       "array([[ 0.,  0.,  0.,  0.,  0.,  0.,  0.,  0.,  0.,  0.,  0.,  0., -1.,\n",
       "         0.,  0.,  0.,  0.,  0.,  1.,  0.,  0.,  0.,  0.,  0.],\n",
       "       [ 0.,  0.,  0.,  0.,  0.,  0.,  0.,  0.,  0.,  0.,  0.,  0.,  0.,\n",
       "        -1.,  0.,  0.,  0.,  0.,  0.,  1.,  0.,  0.,  0.,  0.],\n",
       "       [ 0.,  0.,  0.,  0.,  0.,  0.,  0.,  0.,  0.,  0.,  0.,  0.,  0.,\n",
       "         0., -1.,  0.,  0.,  0.,  0.,  0.,  1.,  0.,  0.,  0.],\n",
       "       [ 0.,  0.,  0.,  0.,  0.,  0.,  0.,  0.,  0.,  0.,  0.,  0.,  0.,\n",
       "         0.,  0., -1.,  0.,  0.,  0.,  0.,  0.,  1.,  0.,  0.],\n",
       "       [ 0.,  0.,  0.,  0.,  0.,  0.,  0.,  0.,  0.,  0.,  0.,  0.,  0.,\n",
       "         0.,  0.,  0., -1.,  0.,  0.,  0.,  0.,  0.,  1.,  0.],\n",
       "       [ 0.,  0.,  0.,  0.,  0.,  0.,  0.,  0.,  0.,  0.,  0.,  0.,  0.,\n",
       "         0.,  0.,  0.,  0., -1.,  0.,  0.,  0.,  0.,  0.,  1.],\n",
       "       [-1.,  0.,  0.,  0.,  0.,  0.,  1.,  0.,  0.,  0.,  0.,  0.,  2.,\n",
       "         0.,  0.,  0.,  0.,  0.,  0.,  0.,  0.,  0.,  0.,  0.],\n",
       "       [ 0., -1.,  0.,  0.,  0.,  0.,  0.,  1.,  0.,  0.,  0.,  0.,  0.,\n",
       "         2.,  0.,  0.,  0.,  0.,  0.,  0.,  0.,  0.,  0.,  0.],\n",
       "       [ 0.,  0., -1.,  0.,  0.,  0.,  0.,  0.,  1.,  0.,  0.,  0.,  0.,\n",
       "         0.,  2.,  0.,  0.,  0.,  0.,  0.,  0.,  0.,  0.,  0.],\n",
       "       [ 0.,  0.,  0., -1.,  0.,  0.,  0.,  0.,  0.,  1.,  0.,  0.,  0.,\n",
       "         0.,  0.,  2.,  0.,  0.,  0.,  0.,  0.,  0.,  0.,  0.],\n",
       "       [ 0.,  0.,  0.,  0., -1.,  0.,  0.,  0.,  0.,  0.,  1.,  0.,  0.,\n",
       "         0.,  0.,  0.,  2.,  0.,  0.,  0.,  0.,  0.,  0.,  0.],\n",
       "       [ 0.,  0.,  0.,  0.,  0., -1.,  0.,  0.,  0.,  0.,  0.,  1.,  0.,\n",
       "         0.,  0.,  0.,  0.,  2.,  0.,  0.,  0.,  0.,  0.,  0.],\n",
       "       [ 1., -1.,  0.,  0.,  0.,  0.,  0.,  0.,  0.,  0.,  0.,  0.,  0.,\n",
       "         0.,  0.,  0.,  0.,  0.,  0.,  0.,  0.,  0.,  0.,  0.],\n",
       "       [ 0.,  1., -1.,  0.,  0.,  0.,  0.,  0.,  0.,  0.,  0.,  0.,  0.,\n",
       "         0.,  0.,  0.,  0.,  0.,  0.,  0.,  0.,  0.,  0.,  0.],\n",
       "       [ 0.,  0.,  1., -1.,  0.,  0.,  0.,  0.,  0.,  0.,  0.,  0.,  0.,\n",
       "         0.,  0.,  0.,  0.,  0.,  0.,  0.,  0.,  0.,  0.,  0.],\n",
       "       [ 0.,  0.,  0.,  1., -1.,  0.,  0.,  0.,  0.,  0.,  0.,  0.,  0.,\n",
       "         0.,  0.,  0.,  0.,  0.,  0.,  0.,  0.,  0.,  0.,  0.],\n",
       "       [ 0.,  0.,  0.,  0.,  1., -1.,  0.,  0.,  0.,  0.,  0.,  0.,  0.,\n",
       "         0.,  0.,  0.,  0.,  0.,  0.,  0.,  0.,  0.,  0.,  0.],\n",
       "       [ 0.,  0.,  0.,  0.,  0.,  0.,  0.,  0.,  0.,  0.,  0.,  0.,  1.,\n",
       "         1.,  1.,  1.,  1.,  1.,  0.,  0.,  0.,  0.,  0.,  0.],\n",
       "       [ 0.,  0.,  0.,  0.,  0.,  0.,  1.,  0.,  0.,  0.,  0.,  0.,  0.,\n",
       "         0.,  0.,  0.,  0.,  0.,  0.,  0.,  0.,  0.,  0.,  0.],\n",
       "       [ 0.,  0.,  0.,  0.,  0.,  0.,  0.,  1.,  0.,  0.,  0.,  0.,  0.,\n",
       "         0.,  0.,  0.,  0.,  0.,  0.,  0.,  0.,  0.,  0.,  0.],\n",
       "       [ 0.,  0.,  0.,  0.,  0.,  0.,  0.,  0.,  1.,  0.,  0.,  0.,  0.,\n",
       "         0.,  0.,  0.,  0.,  0.,  0.,  0.,  0.,  0.,  0.,  0.],\n",
       "       [ 0.,  0.,  0.,  0.,  0.,  0.,  0.,  0.,  0.,  1.,  0.,  0.,  0.,\n",
       "         0.,  0.,  0.,  0.,  0.,  0.,  0.,  0.,  0.,  0.,  0.],\n",
       "       [ 0.,  0.,  0.,  0.,  0.,  0.,  0.,  0.,  0.,  0.,  1.,  0.,  0.,\n",
       "         0.,  0.,  0.,  0.,  0.,  0.,  0.,  0.,  0.,  0.,  0.],\n",
       "       [ 0.,  0.,  0.,  0.,  0.,  0.,  0.,  0.,  0.,  0.,  0.,  1.,  0.,\n",
       "         0.,  0.,  0.,  0.,  0.,  0.,  0.,  0.,  0.,  0.,  0.]])"
      ]
     },
     "execution_count": 41,
     "metadata": {},
     "output_type": "execute_result"
    }
   ],
   "source": [
    "A2"
   ]
  },
  {
   "cell_type": "code",
   "execution_count": 42,
   "metadata": {},
   "outputs": [
    {
     "data": {
      "text/plain": [
       "array([ 0.,  0.,  0.,  0.,  0.,  0., -1., -1., -1.,  1.,  1.,  1.,  0.,\n",
       "        0.,  0.,  0.,  0.,  0.,  1.,  4.,  9., 16., 25., 36.])"
      ]
     },
     "execution_count": 42,
     "metadata": {},
     "output_type": "execute_result"
    }
   ],
   "source": [
    "B"
   ]
  },
  {
   "cell_type": "code",
   "execution_count": 43,
   "metadata": {},
   "outputs": [
    {
     "data": {
      "text/plain": [
       "array([ 0.,  0.,  0.,  0.,  0.,  0., -1., -1., -1.,  1.,  1.,  1.,  0.,\n",
       "        0.,  0.,  0.,  0.,  0.,  1.,  4.,  9., 16., 25., 36.])"
      ]
     },
     "execution_count": 43,
     "metadata": {},
     "output_type": "execute_result"
    }
   ],
   "source": [
    "B2"
   ]
  },
  {
   "cell_type": "code",
   "execution_count": 50,
   "metadata": {},
   "outputs": [
    {
     "data": {
      "text/plain": [
       "array([ 3.5 ,  3.5 ,  3.5 ,  3.5 ,  3.5 ,  3.5 ,  1.  ,  2.  ,  3.  ,\n",
       "        4.  ,  5.  ,  6.  ,  0.75,  0.25, -0.25,  0.25, -0.25, -0.75,\n",
       "        0.75,  0.25, -0.25,  0.25, -0.25, -0.75])"
      ]
     },
     "execution_count": 50,
     "metadata": {},
     "output_type": "execute_result"
    }
   ],
   "source": [
    "eta = 0.001\n",
    "k = 1\n",
    "Q0tr = Q1tr = np.array([1, 1, 1, -1, -1, -1])\n",
    "A2 = np.zeros((24, 24))\n",
    "B2 = np.zeros(24)\n",
    "i_list = []\n",
    "list1 = []\n",
    "list2 = []\n",
    "list3 = []\n",
    "list4 = []\n",
    "list5 = []\n",
    "list6 = []\n",
    "\n",
    "for i in range(6):\n",
    "    A2[i][12 + i] = -1\n",
    "    A2[i][18 + i] = 1\n",
    "    B2[i] = Q0tr[i] - Q1tr[i]\n",
    "\n",
    "    A2[6 + i][i] = -1\n",
    "    A2[6 + i][6 + i] = 1\n",
    "    A2[6 + i][12 + i] = 2 * Q0tr[i] * (Q0tr[i] / abs(Q0tr[i]))\n",
    "    B2[6 + i] = -k * Q0tr[i] ** 2 * (Q0tr[i] / abs(Q0tr[i]))\n",
    "\n",
    "    A2[17][12 + i] = 1\n",
    "    B2[17] = -sum(Q0tr)\n",
    "\n",
    "    A2[18 + i][6 + i] = 1\n",
    "    B2[18 + i] = i + 1\n",
    "\n",
    "for i in range(5):\n",
    "    A2[12 + i][i] = 1\n",
    "    A2[12 + i][1 + i] = -1\n",
    "x = np.linalg.solve(A2, B2)\n",
    "x"
   ]
  },
  {
   "cell_type": "code",
   "execution_count": 51,
   "metadata": {},
   "outputs": [
    {
     "data": {
      "text/plain": [
       "array([ 0.75,  0.25, -0.25,  0.25, -0.25, -0.75])"
      ]
     },
     "execution_count": 51,
     "metadata": {},
     "output_type": "execute_result"
    }
   ],
   "source": [
    "x[12:18]"
   ]
  }
 ],
 "metadata": {
  "kernelspec": {
   "display_name": "Python 3",
   "language": "python",
   "name": "python3"
  },
  "language_info": {
   "codemirror_mode": {
    "name": "ipython",
    "version": 3
   },
   "file_extension": ".py",
   "mimetype": "text/x-python",
   "name": "python",
   "nbconvert_exporter": "python",
   "pygments_lexer": "ipython3",
   "version": "3.7.9"
  }
 },
 "nbformat": 4,
 "nbformat_minor": 4
}
